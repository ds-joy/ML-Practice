{
 "cells": [
  {
   "cell_type": "markdown",
   "metadata": {},
   "source": [
    "### Imports"
   ]
  },
  {
   "cell_type": "code",
   "execution_count": 182,
   "metadata": {},
   "outputs": [],
   "source": [
    "import numpy as np\n",
    "from matplotlib import pyplot as plt\n",
    "%matplotlib inline"
   ]
  },
  {
   "cell_type": "markdown",
   "metadata": {},
   "source": [
    "### Loading the dataset"
   ]
  },
  {
   "cell_type": "code",
   "execution_count": 183,
   "metadata": {},
   "outputs": [],
   "source": [
    "data = np.genfromtxt(\"insurance_data.csv\", delimiter=\",\")\n",
    "data = data[1:,:]"
   ]
  },
  {
   "cell_type": "markdown",
   "metadata": {},
   "source": [
    "### Calculating Euclidean_Distance"
   ]
  },
  {
   "cell_type": "code",
   "execution_count": 184,
   "metadata": {},
   "outputs": [],
   "source": [
    "from math import sqrt\n",
    "def euclidean_distance(p1, p2):\n",
    "    distance = 0.0\n",
    "    for i in range(len(p1)-1):\n",
    "        distance += (p1[i] - p2[i])**2\n",
    "    return sqrt(distance)"
   ]
  },
  {
   "cell_type": "markdown",
   "metadata": {},
   "source": [
    "### Finding the neighbous"
   ]
  },
  {
   "cell_type": "code",
   "execution_count": 185,
   "metadata": {},
   "outputs": [],
   "source": [
    "def get_neighbours(P, p1, num_neighbours):\n",
    "    distances = list()\n",
    "    \n",
    "    for p in P:\n",
    "        dist = euclidean_distance(p1, p)\n",
    "        distances.append((p, dist))\n",
    "    distances.sort(key=lambda tup: tup[1])\n",
    "    neighbours = list()\n",
    "    for i in range(num_neighbours):\n",
    "        neighbours.append(distances[i][0])\n",
    "    \n",
    "    print(neighbours)\n",
    "    return neighbours"
   ]
  },
  {
   "cell_type": "code",
   "execution_count": null,
   "metadata": {},
   "outputs": [],
   "source": []
  },
  {
   "cell_type": "markdown",
   "metadata": {},
   "source": [
    "### Predicting class"
   ]
  },
  {
   "cell_type": "code",
   "execution_count": 186,
   "metadata": {},
   "outputs": [],
   "source": [
    "def predict_classification(P, test, num_neighbours):\n",
    "    \n",
    "    neighbours = get_neighbours(P, test, num_neighbours)\n",
    "    output_values = [row[-1] for row in neighbours]\n",
    "    prediction = max(set(output_values), key=output_values.count)\n",
    "    return prediction\n"
   ]
  },
  {
   "cell_type": "code",
   "execution_count": null,
   "metadata": {},
   "outputs": [],
   "source": []
  },
  {
   "cell_type": "code",
   "execution_count": 191,
   "metadata": {},
   "outputs": [
    {
     "name": "stdout",
     "output_type": "stream",
     "text": [
      "[array([22.,  1.,  0.]), array([21.,  1.,  0.]), array([23.,  1.,  0.]), array([25.,  0.,  0.]), array([25.,  0.,  1.]), array([19.,  0.,  0.]), array([18.,  1.,  0.]), array([18.,  1.,  0.]), array([26.,  0.,  0.]), array([27.,  0.,  0.]), array([28.,  1.,  0.]), array([29.,  0.,  0.]), array([40.,  1.,  1.]), array([45.,  1.,  1.])]\n",
      "Expected 0, Got 0.\n"
     ]
    }
   ],
   "source": [
    "prediction = predict_classification(data, data[0], 14)\n",
    "print('Expected %d, Got %d.' % (data[0][-1], prediction))"
   ]
  },
  {
   "cell_type": "code",
   "execution_count": null,
   "metadata": {},
   "outputs": [],
   "source": []
  }
 ],
 "metadata": {
  "kernelspec": {
   "display_name": "Python 3",
   "language": "python",
   "name": "python3"
  },
  "language_info": {
   "codemirror_mode": {
    "name": "ipython",
    "version": 3
   },
   "file_extension": ".py",
   "mimetype": "text/x-python",
   "name": "python",
   "nbconvert_exporter": "python",
   "pygments_lexer": "ipython3",
   "version": "3.8.5"
  }
 },
 "nbformat": 4,
 "nbformat_minor": 4
}
