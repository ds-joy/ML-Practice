{
  "nbformat": 4,
  "nbformat_minor": 0,
  "metadata": {
    "colab": {
      "name": "potato_diseases.ipynb",
      "provenance": [],
      "mount_file_id": "1SgaBkdIqR9PKVd8MfIZRIR-dwITaijFV",
      "authorship_tag": "ABX9TyPA8Fj06csNsIlEFECjCYN+",
      "include_colab_link": true
    },
    "kernelspec": {
      "name": "python3",
      "display_name": "Python 3"
    },
    "language_info": {
      "name": "python"
    }
  },
  "cells": [
    {
      "cell_type": "markdown",
      "metadata": {
        "id": "view-in-github",
        "colab_type": "text"
      },
      "source": [
        "<a href=\"https://colab.research.google.com/github/ds-joy/ML-Practice/blob/master/potato_leaf_diseases/potato_diseases.ipynb\" target=\"_parent\"><img src=\"https://colab.research.google.com/assets/colab-badge.svg\" alt=\"Open In Colab\"/></a>"
      ]
    },
    {
      "cell_type": "code",
      "execution_count": 27,
      "metadata": {
        "id": "etnIdRjkGa0o"
      },
      "outputs": [],
      "source": [
        "# from google.colab import drive\n",
        "# drive.mount('/content/drive')"
      ]
    },
    {
      "cell_type": "code",
      "source": [
        "# ! pip install -q kaggle"
      ],
      "metadata": {
        "id": "CLwCcLNpG2Ck"
      },
      "execution_count": 28,
      "outputs": []
    },
    {
      "cell_type": "code",
      "source": [
        "# from google.colab import files\n",
        "# files.upload()"
      ],
      "metadata": {
        "id": "mLxyjwiVHCPA"
      },
      "execution_count": 29,
      "outputs": []
    },
    {
      "cell_type": "code",
      "source": [
        "! mkdir ~/.kaggle\n",
        "! cp kaggle.json ~/.kaggle/"
      ],
      "metadata": {
        "id": "2TsvNaJEHF8S",
        "colab": {
          "base_uri": "https://localhost:8080/"
        },
        "outputId": "7ca5a0bf-14b3-4ff3-a069-8fe256fa719a"
      },
      "execution_count": 30,
      "outputs": [
        {
          "output_type": "stream",
          "name": "stdout",
          "text": [
            "mkdir: cannot create directory ‘/root/.kaggle’: File exists\n"
          ]
        }
      ]
    },
    {
      "cell_type": "code",
      "source": [
        "! chmod 600 ~/.kaggle/kaggle.json\n",
        "! kaggle datasets list"
      ],
      "metadata": {
        "id": "v3zbkQ6zHTO7",
        "colab": {
          "base_uri": "https://localhost:8080/"
        },
        "outputId": "0a3fbeea-b042-4477-d199-a1b9a9520901"
      },
      "execution_count": 31,
      "outputs": [
        {
          "output_type": "stream",
          "name": "stdout",
          "text": [
            "ref                                                          title                                                size  lastUpdated          downloadCount  voteCount  usabilityRating  \n",
            "-----------------------------------------------------------  --------------------------------------------------  -----  -------------------  -------------  ---------  ---------------  \n",
            "victorsoeiro/netflix-tv-shows-and-movies                     Netflix TV Shows and Movies                           2MB  2022-05-15 00:01:23           8497        265  1.0              \n",
            "devansodariya/student-performance-data                       Student Performance Dataset                           7KB  2022-05-26 13:55:09           4195        145  0.9705882        \n",
            "iamsouravbanerjee/software-professional-salaries-2022        Salary Dataset - 2022                               526KB  2022-06-15 17:13:05           1538         40  1.0              \n",
            "paradisejoy/top-hits-spotify-from-20002019                   Top Hits Spotify from 2000-2019                      94KB  2022-05-31 07:20:57           6570        157  1.0              \n",
            "surajjha101/stores-area-and-sales-data                       Supermarket store branches sales analysis            10KB  2022-04-29 11:10:16           6641        183  1.0              \n",
            "mayureshkoli/police-deaths-in-usa-from-1791-to-2022          Police deaths in USA from 1791 to 2022              698KB  2022-06-09 17:47:57            690         27  1.0              \n",
            "saddamazyazy/go-to-college-dataset                           Go To College Dataset                                12KB  2022-05-20 10:46:02           1643         44  1.0              \n",
            "gunapro/student-behavior                                     Student Behavior                                      5KB  2022-06-03 13:45:54           1372         41  0.7647059        \n",
            "odins0n/amex-parquet                                         Amex Competition Data in Parquet Format               9GB  2022-05-25 23:20:19            872        116  1.0              \n",
            "ahmedshahriarsakib/usa-real-estate-dataset                   USA Real Estate Dataset                               5MB  2022-06-04 21:40:25            897         35  1.0              \n",
            "kkhandekar/cost-of-living-index-by-city-2022                 Cost of Living Index by City 2022                    15KB  2022-06-03 02:50:24            862         29  1.0              \n",
            "ruchi798/parquet-files-amexdefault-prediction                Feather & Parquet Files : AMEX-Default Prediction    22GB  2022-05-26 05:46:53            628         95  1.0              \n",
            "azminetoushikwasi/ucl-202122-uefa-champions-league           UCL ⚽ 2021-22 ⭐ Players Data | Champions League      55KB  2022-06-13 08:36:43           1346         44  1.0              \n",
            "prasertk/cities-with-the-best-worklife-balance-2022          Cities with the Best Work-Life Balance 2022           5KB  2022-06-01 09:15:52            757         28  1.0              \n",
            "kuchhbhi/play-store-apps-may2022                             Play Store Apps May-2022                            468KB  2022-05-19 07:57:19            790         28  1.0              \n",
            "aryashah2k/sample-students-grades-dataset-tutorial-notebook  Sample Students Grades Dataset Tutorial Notebook     360B  2022-06-07 09:11:25            231         26  1.0              \n",
            "dansbecker/melbourne-housing-snapshot                        Melbourne Housing Snapshot                          451KB  2018-06-05 12:52:24          89018       1090  0.7058824        \n",
            "imoore/age-dataset                                           Age dataset: life, work, and death of 1.22M people   34MB  2022-06-07 08:56:52            560         46  1.0              \n",
            "ankanhore545/dropout-or-academic-success                     Predict Dropout or Academic Success                 103KB  2022-06-05 11:32:43            528         27  0.9117647        \n",
            "datasnaek/youtube-new                                        Trending YouTube Video Statistics                   201MB  2019-06-03 00:56:47         177109       4563  0.7941176        \n"
          ]
        }
      ]
    },
    {
      "cell_type": "code",
      "source": [
        "# ! kaggle datasets download -d arjuntejaswi/plant-village"
      ],
      "metadata": {
        "id": "528L4bEVHWny"
      },
      "execution_count": 32,
      "outputs": []
    },
    {
      "cell_type": "code",
      "source": [
        "# !mkdir potato"
      ],
      "metadata": {
        "id": "5sx5SPpQHlFh"
      },
      "execution_count": 33,
      "outputs": []
    },
    {
      "cell_type": "code",
      "source": [
        "# !unzip plant-village.zip -d potato"
      ],
      "metadata": {
        "id": "hmAEYdQpIUqU"
      },
      "execution_count": 34,
      "outputs": []
    },
    {
      "cell_type": "code",
      "source": [
        "# !rm -rf /content/potato/PlantVillage/Tomato__Tomato_mosaic_virus/\n",
        "# !rm -rf /content/potato/PlantVillage/Pepper__bell___Bacterial_spot/\n",
        "# !rm -rf /content/potato/PlantVillage/Pepper__bell___healthy/\n"
      ],
      "metadata": {
        "id": "A9CwiQcxIYrW"
      },
      "execution_count": 35,
      "outputs": []
    },
    {
      "cell_type": "code",
      "source": [
        "import tensorflow as tf\n",
        "from tensorflow.keras import models, layers\n",
        "import matplotlib.pyplot as plt"
      ],
      "metadata": {
        "id": "ixv0jnPbJ9kz"
      },
      "execution_count": 36,
      "outputs": []
    },
    {
      "cell_type": "code",
      "source": [
        "IMAGE_SIZE = 256\n",
        "BATCH_SIZE = 32"
      ],
      "metadata": {
        "id": "Lidq8k_vNl1H"
      },
      "execution_count": 37,
      "outputs": []
    },
    {
      "cell_type": "code",
      "source": [
        "dataset = tf.keras.preprocessing.image_dataset_from_directory(\n",
        "    \"/content/potato/PlantVillage\",\n",
        "    shuffle=True,\n",
        "    image_size = (IMAGE_SIZE, IMAGE_SIZE),\n",
        "    batch_size = BATCH_SIZE\n",
        ")"
      ],
      "metadata": {
        "colab": {
          "base_uri": "https://localhost:8080/"
        },
        "id": "Ri7b643gMTnv",
        "outputId": "8660e7eb-4579-4d35-fd2c-6f4fa92f2e95"
      },
      "execution_count": 38,
      "outputs": [
        {
          "output_type": "stream",
          "name": "stdout",
          "text": [
            "Found 2151 files belonging to 3 classes.\n"
          ]
        }
      ]
    },
    {
      "cell_type": "code",
      "source": [
        "class_names = dataset.class_names\n",
        "class_names"
      ],
      "metadata": {
        "colab": {
          "base_uri": "https://localhost:8080/"
        },
        "id": "7iV2f2nyN6x4",
        "outputId": "8d83867b-cf23-46e9-9b0a-66baa28e6b74"
      },
      "execution_count": 39,
      "outputs": [
        {
          "output_type": "execute_result",
          "data": {
            "text/plain": [
              "['Potato___Early_blight', 'Potato___Late_blight', 'Potato___healthy']"
            ]
          },
          "metadata": {},
          "execution_count": 39
        }
      ]
    },
    {
      "cell_type": "code",
      "source": [
        "len(dataset)"
      ],
      "metadata": {
        "colab": {
          "base_uri": "https://localhost:8080/"
        },
        "id": "2AToBA5tOFRD",
        "outputId": "a998e0ca-5cba-4060-d4eb-e89cb98eec0c"
      },
      "execution_count": 40,
      "outputs": [
        {
          "output_type": "execute_result",
          "data": {
            "text/plain": [
              "68"
            ]
          },
          "metadata": {},
          "execution_count": 40
        }
      ]
    },
    {
      "cell_type": "code",
      "source": [
        ""
      ],
      "metadata": {
        "id": "3RFERESgOG9j"
      },
      "execution_count": 40,
      "outputs": []
    }
  ]
}